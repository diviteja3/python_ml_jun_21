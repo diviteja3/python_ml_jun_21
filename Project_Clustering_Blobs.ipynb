{
  "nbformat": 4,
  "nbformat_minor": 0,
  "metadata": {
    "kernelspec": {
      "display_name": "Python 3",
      "language": "python",
      "name": "python3"
    },
    "language_info": {
      "codemirror_mode": {
        "name": "ipython",
        "version": 3
      },
      "file_extension": ".py",
      "mimetype": "text/x-python",
      "name": "python",
      "nbconvert_exporter": "python",
      "pygments_lexer": "ipython3",
      "version": "3.8.3"
    },
    "colab": {
      "name": "Project Clustering Blobs.ipynb",
      "provenance": []
    }
  },
  "cells": [
    {
      "cell_type": "markdown",
      "metadata": {
        "id": "K6uszEF-tg6Q"
      },
      "source": [
        "# Unsupervised Machine Learning - KMeans\n",
        "\n",
        "Support vector machines (SVMs) are a set of supervised learning methods used for classification, regression and outliers detection. SVMs are one of the most robust prediction methods. \n",
        "\n",
        "Sources: \n",
        "[sklearn](https://scikit-learn.org/stable/modules/generated/sklearn.cluster.KMeans.html?highlight=kmeans#sklearn.cluster.KMeans), [wikipedia](https://en.wikipedia.org/wiki/K-means_clustering)"
      ]
    },
    {
      "cell_type": "markdown",
      "metadata": {
        "id": "fUB89AR6C5Br"
      },
      "source": [
        "![kmeans.png](https://www.mathworks.com/matlabcentral/mlc-downloads/downloads/submissions/52579/versions/9/screenshot.jpg)"
      ]
    },
    {
      "cell_type": "code",
      "metadata": {
        "id": "vUeQk1DSoHNV"
      },
      "source": [
        ""
      ],
      "execution_count": null,
      "outputs": []
    },
    {
      "cell_type": "code",
      "metadata": {
        "id": "z0Xwe8fyoHNW"
      },
      "source": [
        "import pandas as pd\n",
        "import numpy as np\n",
        "import matplotlib.pyplot as plt\n",
        "from sklearn import datasets\n"
      ],
      "execution_count": 23,
      "outputs": []
    },
    {
      "cell_type": "code",
      "metadata": {
        "id": "HZ_JkDRQoHNX"
      },
      "source": [
        "# Take make moons in built dataset\n",
        "\n",
        "data_ = datasets.make_moons(100)"
      ],
      "execution_count": 55,
      "outputs": []
    },
    {
      "cell_type": "code",
      "metadata": {
        "id": "HZFC_XXYoHNY",
        "outputId": "e813728b-50bd-4470-9b2e-8e5755c4c98c"
      },
      "source": [
        "# check the dataset\n",
        "\n",
        "data_"
      ],
      "execution_count": null,
      "outputs": [
        {
          "output_type": "execute_result",
          "data": {
            "text/plain": [
              "(array([[-3.45365054e-01,  9.38468422e-01],\n",
              "        [ 9.26916757e-01,  3.75267005e-01],\n",
              "        [ 3.27051370e-02,  2.46345416e-01],\n",
              "        [ 7.15472413e-01, -4.58667853e-01],\n",
              "        [-3.20515776e-02,  9.99486216e-01],\n",
              "        [ 9.97945393e-01,  6.40702200e-02],\n",
              "        [ 1.94905575e+00,  1.84891782e-01],\n",
              "        [ 1.61911895e-01, -4.55349012e-02],\n",
              "        [ 9.67294863e-01,  2.53654584e-01],\n",
              "        [ 5.72116660e-01,  8.20172255e-01],\n",
              "        [ 7.61445958e-01,  6.48228395e-01],\n",
              "        [ 8.40400105e-01, -4.87181783e-01],\n",
              "        [ 2.00000000e+00,  5.00000000e-01],\n",
              "        [ 8.38088105e-01,  5.45534901e-01],\n",
              "        [ 1.57211666e+00, -3.20172255e-01],\n",
              "        [-7.61445958e-01,  6.48228395e-01],\n",
              "        [-9.97945393e-01,  6.40702200e-02],\n",
              "        [-9.91790014e-01,  1.27877162e-01],\n",
              "        [-4.62538290e-01,  8.86599306e-01],\n",
              "        [-2.22520934e-01,  9.74927912e-01],\n",
              "        [ 1.34536505e+00, -4.38468422e-01],\n",
              "        [ 5.95216657e-01, -4.14412623e-01],\n",
              "        [ 9.00968868e-01,  4.33883739e-01],\n",
              "        [ 8.01413622e-01,  5.98110530e-01],\n",
              "        [ 2.84527587e-01,  9.58667853e-01],\n",
              "        [-6.72300890e-01,  7.40277997e-01],\n",
              "        [ 7.30832427e-02,  1.24732995e-01],\n",
              "        [ 1.15959990e+00, -4.87181783e-01],\n",
              "        [ 8.71318704e-01,  4.90717552e-01],\n",
              "        [ 7.18349350e-01,  6.95682551e-01],\n",
              "        [ 1.98586378e-01, -9.81105305e-02],\n",
              "        [ 1.71834935e+00, -1.95682551e-01],\n",
              "        [ 3.20515776e-02,  9.99486216e-01],\n",
              "        [ 9.67948422e-01, -4.99486216e-01],\n",
              "        [ 1.87131870e+00,  9.28244800e-03],\n",
              "        [ 1.76144596e+00, -1.48228395e-01],\n",
              "        [-1.59599895e-01,  9.87181783e-01],\n",
              "        [-5.72116660e-01,  8.20172255e-01],\n",
              "        [ 3.45365054e-01,  9.38468422e-01],\n",
              "        [ 1.99179001e+00,  3.72122838e-01],\n",
              "        [ 6.23489802e-01,  7.81831482e-01],\n",
              "        [ 4.04783343e-01,  9.14412623e-01],\n",
              "        [ 5.09442530e-02,  1.84891782e-01],\n",
              "        [ 6.72300890e-01,  7.40277997e-01],\n",
              "        [ 9.90311321e-02,  6.61162609e-02],\n",
              "        [-9.00968868e-01,  4.33883739e-01],\n",
              "        [-8.71318704e-01,  4.90717552e-01],\n",
              "        [ 7.77479066e-01, -4.74927912e-01],\n",
              "        [-8.38088105e-01,  5.45534901e-01],\n",
              "        [-9.81559157e-01,  1.91158629e-01],\n",
              "        [ 4.81607432e-01, -3.55142763e-01],\n",
              "        [ 1.28452759e+00, -4.58667853e-01],\n",
              "        [-8.01413622e-01,  5.98110530e-01],\n",
              "        [-2.84527587e-01,  9.58667853e-01],\n",
              "        [ 2.81650650e-01, -1.95682551e-01],\n",
              "        [ 1.46253829e+00, -3.86599306e-01],\n",
              "        [ 9.81559157e-01,  1.91158629e-01],\n",
              "        [ 1.84408430e-02,  3.08841371e-01],\n",
              "        [ 1.59599895e-01,  9.87181783e-01],\n",
              "        [ 2.05460725e-03,  4.35929780e-01],\n",
              "        [ 1.92691676e+00,  1.24732995e-01],\n",
              "        [-1.00000000e+00,  1.22464680e-16],\n",
              "        [ 1.51839257e+00, -3.55142763e-01],\n",
              "        [ 1.98155916e+00,  3.08841371e-01],\n",
              "        [ 9.03976974e-01, -4.95379113e-01],\n",
              "        [ 4.62538290e-01,  8.86599306e-01],\n",
              "        [ 9.91790014e-01,  1.27877162e-01],\n",
              "        [ 8.20998618e-03,  3.72122838e-01],\n",
              "        [-9.49055747e-01,  3.15108218e-01],\n",
              "        [-9.67294863e-01,  2.53654584e-01],\n",
              "        [ 1.28681296e-01,  9.28244800e-03],\n",
              "        [ 1.96729486e+00,  2.46345416e-01],\n",
              "        [ 6.54634946e-01, -4.38468422e-01],\n",
              "        [ 1.40478334e+00, -4.14412623e-01],\n",
              "        [ 1.09602303e+00, -4.95379113e-01],\n",
              "        [-6.23489802e-01,  7.81831482e-01],\n",
              "        [ 5.37461710e-01, -3.86599306e-01],\n",
              "        [-4.04783343e-01,  9.14412623e-01],\n",
              "        [ 4.27883340e-01, -3.20172255e-01],\n",
              "        [-5.18392568e-01,  8.55142763e-01],\n",
              "        [ 1.00000000e+00,  0.00000000e+00],\n",
              "        [ 9.49055747e-01,  3.15108218e-01],\n",
              "        [-7.18349350e-01,  6.95682551e-01],\n",
              "        [ 1.03205158e+00, -4.99486216e-01],\n",
              "        [ 1.83808810e+00, -4.55349012e-02],\n",
              "        [-9.26916757e-01,  3.75267005e-01],\n",
              "        [ 1.67230089e+00, -2.40277997e-01],\n",
              "        [ 1.22252093e+00, -4.74927912e-01],\n",
              "        [ 1.80141362e+00, -9.81105305e-02],\n",
              "        [ 9.60230259e-02,  9.95379113e-01],\n",
              "        [ 2.22520934e-01,  9.74927912e-01],\n",
              "        [ 1.90096887e+00,  6.61162609e-02],\n",
              "        [ 3.27699110e-01, -2.40277997e-01],\n",
              "        [-9.60230259e-02,  9.95379113e-01],\n",
              "        [ 2.38554042e-01, -1.48228395e-01],\n",
              "        [ 0.00000000e+00,  5.00000000e-01],\n",
              "        [ 1.62348980e+00, -2.81831482e-01],\n",
              "        [ 3.76510198e-01, -2.81831482e-01],\n",
              "        [ 5.18392568e-01,  8.55142763e-01],\n",
              "        [ 1.99794539e+00,  4.35929780e-01]]),\n",
              " array([0, 0, 1, 1, 0, 0, 1, 1, 0, 0, 0, 1, 1, 0, 1, 0, 0, 0, 0, 0, 1, 1,\n",
              "        0, 0, 0, 0, 1, 1, 0, 0, 1, 1, 0, 1, 1, 1, 0, 0, 0, 1, 0, 0, 1, 0,\n",
              "        1, 0, 0, 1, 0, 0, 1, 1, 0, 0, 1, 1, 0, 1, 0, 1, 1, 0, 1, 1, 1, 0,\n",
              "        0, 1, 0, 0, 1, 1, 1, 1, 1, 0, 1, 0, 1, 0, 0, 0, 0, 1, 1, 0, 1, 1,\n",
              "        1, 0, 0, 1, 1, 0, 1, 1, 1, 1, 0, 1], dtype=int64))"
            ]
          },
          "metadata": {
            "tags": []
          },
          "execution_count": 3
        }
      ]
    },
    {
      "cell_type": "code",
      "metadata": {
        "id": "QcG7v1o8oHNa"
      },
      "source": [
        "# create input dataframe\n",
        "\n",
        "inputData = pd.DataFrame(data = data_[0])"
      ],
      "execution_count": 25,
      "outputs": []
    },
    {
      "cell_type": "code",
      "metadata": {
        "id": "bgCZI-_UoHNb",
        "outputId": "535fb656-0065-4707-e704-cf68d2cb1551"
      },
      "source": [
        "inputData.head()"
      ],
      "execution_count": null,
      "outputs": [
        {
          "output_type": "execute_result",
          "data": {
            "text/html": [
              "<div>\n",
              "<style scoped>\n",
              "    .dataframe tbody tr th:only-of-type {\n",
              "        vertical-align: middle;\n",
              "    }\n",
              "\n",
              "    .dataframe tbody tr th {\n",
              "        vertical-align: top;\n",
              "    }\n",
              "\n",
              "    .dataframe thead th {\n",
              "        text-align: right;\n",
              "    }\n",
              "</style>\n",
              "<table border=\"1\" class=\"dataframe\">\n",
              "  <thead>\n",
              "    <tr style=\"text-align: right;\">\n",
              "      <th></th>\n",
              "      <th>0</th>\n",
              "      <th>1</th>\n",
              "    </tr>\n",
              "  </thead>\n",
              "  <tbody>\n",
              "    <tr>\n",
              "      <th>0</th>\n",
              "      <td>-0.345365</td>\n",
              "      <td>0.938468</td>\n",
              "    </tr>\n",
              "    <tr>\n",
              "      <th>1</th>\n",
              "      <td>0.926917</td>\n",
              "      <td>0.375267</td>\n",
              "    </tr>\n",
              "    <tr>\n",
              "      <th>2</th>\n",
              "      <td>0.032705</td>\n",
              "      <td>0.246345</td>\n",
              "    </tr>\n",
              "    <tr>\n",
              "      <th>3</th>\n",
              "      <td>0.715472</td>\n",
              "      <td>-0.458668</td>\n",
              "    </tr>\n",
              "    <tr>\n",
              "      <th>4</th>\n",
              "      <td>-0.032052</td>\n",
              "      <td>0.999486</td>\n",
              "    </tr>\n",
              "  </tbody>\n",
              "</table>\n",
              "</div>"
            ],
            "text/plain": [
              "          0         1\n",
              "0 -0.345365  0.938468\n",
              "1  0.926917  0.375267\n",
              "2  0.032705  0.246345\n",
              "3  0.715472 -0.458668\n",
              "4 -0.032052  0.999486"
            ]
          },
          "metadata": {
            "tags": []
          },
          "execution_count": 5
        }
      ]
    },
    {
      "cell_type": "code",
      "metadata": {
        "id": "Zazi8UZzoHNc",
        "outputId": "2e4b8873-e78c-4b85-bb27-ebf3a8f4b9c1",
        "colab": {
          "base_uri": "https://localhost:8080/",
          "height": 203
        }
      },
      "source": [
        "# create output dataframe\n",
        "\n",
        "outputData = pd.DataFrame(data = data_[1])\n",
        "outputData.head()"
      ],
      "execution_count": 26,
      "outputs": [
        {
          "output_type": "execute_result",
          "data": {
            "text/html": [
              "<div>\n",
              "<style scoped>\n",
              "    .dataframe tbody tr th:only-of-type {\n",
              "        vertical-align: middle;\n",
              "    }\n",
              "\n",
              "    .dataframe tbody tr th {\n",
              "        vertical-align: top;\n",
              "    }\n",
              "\n",
              "    .dataframe thead th {\n",
              "        text-align: right;\n",
              "    }\n",
              "</style>\n",
              "<table border=\"1\" class=\"dataframe\">\n",
              "  <thead>\n",
              "    <tr style=\"text-align: right;\">\n",
              "      <th></th>\n",
              "      <th>0</th>\n",
              "    </tr>\n",
              "  </thead>\n",
              "  <tbody>\n",
              "    <tr>\n",
              "      <th>0</th>\n",
              "      <td>1</td>\n",
              "    </tr>\n",
              "    <tr>\n",
              "      <th>1</th>\n",
              "      <td>1</td>\n",
              "    </tr>\n",
              "    <tr>\n",
              "      <th>2</th>\n",
              "      <td>0</td>\n",
              "    </tr>\n",
              "    <tr>\n",
              "      <th>3</th>\n",
              "      <td>0</td>\n",
              "    </tr>\n",
              "    <tr>\n",
              "      <th>4</th>\n",
              "      <td>1</td>\n",
              "    </tr>\n",
              "  </tbody>\n",
              "</table>\n",
              "</div>"
            ],
            "text/plain": [
              "   0\n",
              "0  1\n",
              "1  1\n",
              "2  0\n",
              "3  0\n",
              "4  1"
            ]
          },
          "metadata": {
            "tags": []
          },
          "execution_count": 26
        }
      ]
    },
    {
      "cell_type": "code",
      "metadata": {
        "id": "P396DD1KoHNd",
        "outputId": "93187537-c2bf-406d-e318-9886a6e77001",
        "colab": {
          "base_uri": "https://localhost:8080/",
          "height": 282
        }
      },
      "source": [
        "# create a scatter plot for inputData set\n",
        "\n",
        "plt.scatter(inputData[0], inputData[1], c = outputData)"
      ],
      "execution_count": 27,
      "outputs": [
        {
          "output_type": "execute_result",
          "data": {
            "text/plain": [
              "<matplotlib.collections.PathCollection at 0x7f1922ff1610>"
            ]
          },
          "metadata": {
            "tags": []
          },
          "execution_count": 27
        },
        {
          "output_type": "display_data",
          "data": {
            "image/png": "[encoded data removed]",
            "text/plain": [
              "<Figure size 432x288 with 1 Axes>"
            ]
          },
          "metadata": {
            "tags": [],
            "needs_background": "light"
          }
        }
      ]
    },
    {
      "cell_type": "code",
      "metadata": {
        "id": "i6EkZi80oHNe",
        "outputId": "8f9707c8-074c-40cd-a2c7-019bcf01ba71",
        "colab": {
          "base_uri": "https://localhost:8080/",
          "height": 282
        }
      },
      "source": [
        "# create a scatter plot for inputData set with outputData color\n",
        "\n",
        "plt.scatter(inputData[0], inputData[1], c = outputData)\n"
      ],
      "execution_count": 30,
      "outputs": [
        {
          "output_type": "execute_result",
          "data": {
            "text/plain": [
              "<matplotlib.collections.PathCollection at 0x7f1922ed3690>"
            ]
          },
          "metadata": {
            "tags": []
          },
          "execution_count": 30
        },
        {
          "output_type": "display_data",
          "data": {
            "image/png": "[encoded data removed]",
            "text/plain": [
              "<Figure size 432x288 with 1 Axes>"
            ]
          },
          "metadata": {
            "tags": [],
            "needs_background": "light"
          }
        }
      ]
    },
    {
      "cell_type": "code",
      "metadata": {
        "id": "xfGZx3tPoHNe"
      },
      "source": [
        "from sklearn.cluster import KMeans"
      ],
      "execution_count": 36,
      "outputs": []
    },
    {
      "cell_type": "code",
      "metadata": {
        "id": "cAtGBySfoHNf",
        "outputId": "7c0ac9fb-5e49-4ed6-ee58-b43cba2d4380",
        "colab": {
          "base_uri": "https://localhost:8080/"
        }
      },
      "source": [
        "\n",
        "model = KMeans(n_clusters=2)\n",
        "model.fit(inputData)\n",
        "\n",
        "#model_fit\n"
      ],
      "execution_count": 57,
      "outputs": [
        {
          "output_type": "execute_result",
          "data": {
            "text/plain": [
              "KMeans(algorithm='auto', copy_x=True, init='k-means++', max_iter=300,\n",
              "       n_clusters=2, n_init=10, n_jobs=None, precompute_distances='auto',\n",
              "       random_state=None, tol=0.0001, verbose=0)"
            ]
          },
          "metadata": {
            "tags": []
          },
          "execution_count": 57
        }
      ]
    },
    {
      "cell_type": "code",
      "metadata": {
        "id": "uVygj82UoHNf",
        "outputId": "8d9a355c-00b9-4f4c-ff07-6dc04c961323",
        "colab": {
          "base_uri": "https://localhost:8080/"
        }
      },
      "source": [
        "# check for labels\n",
        "\n",
        "model.labels_"
      ],
      "execution_count": 58,
      "outputs": [
        {
          "output_type": "execute_result",
          "data": {
            "text/plain": [
              "array([1, 1, 0, 0, 1, 0, 1, 1, 1, 0, 0, 1, 0, 0, 1, 0, 0, 1, 0, 1, 0, 0,\n",
              "       0, 1, 0, 0, 1, 0, 1, 1, 0, 0, 1, 1, 0, 0, 0, 0, 1, 0, 1, 0, 1, 1,\n",
              "       1, 0, 1, 0, 1, 1, 1, 0, 1, 1, 1, 1, 0, 0, 1, 1, 0, 1, 0, 0, 0, 0,\n",
              "       0, 1, 0, 1, 1, 0, 0, 1, 1, 1, 0, 1, 1, 0, 1, 0, 1, 1, 0, 0, 1, 1,\n",
              "       1, 0, 0, 1, 0, 0, 0, 0, 1, 0, 1, 1], dtype=int32)"
            ]
          },
          "metadata": {
            "tags": []
          },
          "execution_count": 58
        }
      ]
    },
    {
      "cell_type": "code",
      "metadata": {
        "id": "-AW5BK6hoHNg"
      },
      "source": [
        "from sklearn import metrics"
      ],
      "execution_count": 45,
      "outputs": []
    },
    {
      "cell_type": "code",
      "metadata": {
        "id": "VzCcyJU6oHNg",
        "outputId": "23f8b276-172e-4d1f-c31d-eec8c0abf55a",
        "colab": {
          "base_uri": "https://localhost:8080/"
        }
      },
      "source": [
        "# call metrics and check silhoutte score\n",
        "\n",
        "metrics.silhouette_score(inputData, model.labels_)"
      ],
      "execution_count": 47,
      "outputs": [
        {
          "output_type": "execute_result",
          "data": {
            "text/plain": [
              "0.48500256686055865"
            ]
          },
          "metadata": {
            "tags": []
          },
          "execution_count": 47
        }
      ]
    },
    {
      "cell_type": "code",
      "metadata": {
        "id": "JW8vJ40VoHNh",
        "outputId": "a5574e40-3b2f-4aad-9a65-a0ce0d4811f4",
        "colab": {
          "base_uri": "https://localhost:8080/",
          "height": 282
        }
      },
      "source": [
        "# create a scatter plot for inputData set with model labels color\n",
        "plt.scatter(inputData[0], inputData[1], c = model.labels_)"
      ],
      "execution_count": 48,
      "outputs": [
        {
          "output_type": "execute_result",
          "data": {
            "text/plain": [
              "<matplotlib.collections.PathCollection at 0x7f191e421c50>"
            ]
          },
          "metadata": {
            "tags": []
          },
          "execution_count": 48
        },
        {
          "output_type": "display_data",
          "data": {
            "image/png": "[encoded data removed]",
            "text/plain": [
              "<Figure size 432x288 with 1 Axes>"
            ]
          },
          "metadata": {
            "tags": [],
            "needs_background": "light"
          }
        }
      ]
    },
    {
      "cell_type": "markdown",
      "metadata": {
        "id": "tYmnd1iNoHNi"
      },
      "source": [
        "#### finding right number of cluster"
      ]
    },
    {
      "cell_type": "code",
      "metadata": {
        "id": "dcCjHj6uoHNi"
      },
      "source": [
        "cluster_range = range(1, 20)\n",
        "error_list = []\n",
        "\n",
        "for i in cluster_range:\n",
        "    model = KMeans(n_clusters=i)\n",
        "    model.fit(inputData)\n",
        "    res = model.inertia_\n",
        "    error_list.append(res)"
      ],
      "execution_count": 59,
      "outputs": []
    },
    {
      "cell_type": "code",
      "metadata": {
        "id": "YHe_VZzvoHNj",
        "outputId": "f24aefb9-0b1c-4ca2-d930-8d3b2f6018fa",
        "colab": {
          "base_uri": "https://localhost:8080/",
          "height": 295
        }
      },
      "source": [
        "import matplotlib.pyplot as plt\n",
        "\n",
        "plt.plot(cluster_range, error_list, marker = \"o\", color = \"g\", markersize = 10)\n",
        "plt.xlabel(\"Cluster Range\")\n",
        "plt.ylabel(\"IntraCluster Sum\")\n",
        "plt.title(\"KMeans\")\n",
        "plt.show()"
      ],
      "execution_count": 60,
      "outputs": [
        {
          "output_type": "display_data",
          "data": {
            "image/png": "[encoded data removed]",
            "text/plain": [
              "<Figure size 432x288 with 1 Axes>"
            ]
          },
          "metadata": {
            "tags": [],
            "needs_background": "light"
          }
        }
      ]
    },
    {
      "cell_type": "code",
      "metadata": {
        "id": "DTba6iVFoHNj"
      },
      "source": [
        ""
      ],
      "execution_count": null,
      "outputs": []
    },
    {
      "cell_type": "code",
      "metadata": {
        "id": "uQyqZ3ZooHNk"
      },
      "source": [
        ""
      ],
      "execution_count": null,
      "outputs": []
    }
  ]
}